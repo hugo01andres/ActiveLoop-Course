{
 "cells": [
  {
   "cell_type": "code",
   "execution_count": 1,
   "metadata": {},
   "outputs": [],
   "source": [
    "import os\n",
    "\n",
    "os.environ[\"OPENAI_API_KEY\"] = os.getenv(\"OPENAI_API_KEY\")\n",
    "os.environ[\"GOOGLE_API_KEY\"] = os.getenv(\"GOOGLE_API_KEY\")\n",
    "os.environ[\"GOOGLE_CSE_ID\"] = os.getenv(\"GOOGLE_CSE_ID\")"
   ]
  },
  {
   "cell_type": "code",
   "execution_count": 2,
   "metadata": {},
   "outputs": [
    {
     "name": "stderr",
     "output_type": "stream",
     "text": [
      "/workspaces/ActiveLoop-Course/env/lib/python3.10/site-packages/langchain_core/_api/deprecation.py:117: LangChainDeprecationWarning: The class `langchain_community.llms.openai.OpenAI` was deprecated in langchain-community 0.0.10 and will be removed in 0.2.0. An updated version of the class exists in the langchain-openai package and should be used instead. To use it run `pip install -U langchain-openai` and import as `from langchain_openai import OpenAI`.\n",
      "  warn_deprecated(\n",
      "/workspaces/ActiveLoop-Course/env/lib/python3.10/site-packages/langchain_core/_api/deprecation.py:117: LangChainDeprecationWarning: The function `initialize_agent` was deprecated in LangChain 0.1.0 and will be removed in 0.2.0. Use Use new agent constructor methods like create_react_agent, create_json_agent, create_structured_chat_agent, etc. instead.\n",
      "  warn_deprecated(\n",
      "/workspaces/ActiveLoop-Course/env/lib/python3.10/site-packages/langchain_core/_api/deprecation.py:117: LangChainDeprecationWarning: The function `run` was deprecated in LangChain 0.1.0 and will be removed in 0.2.0. Use invoke instead.\n",
      "  warn_deprecated(\n"
     ]
    },
    {
     "name": "stdout",
     "output_type": "stream",
     "text": [
      "\n",
      "\n",
      "\u001b[1m> Entering new AgentExecutor chain...\u001b[0m\n",
      "\u001b[32;1m\u001b[1;3m I should use a calculator to add 1000 to the number of goals scored in the soccer world cup in 2018.\n",
      "Action: Calculator\n",
      "Action Input: 1000 + number of goals scored in the soccer world cup in 2018\u001b[0m\n",
      "Observation: \u001b[33;1m\u001b[1;3mAnswer: 1169\u001b[0m\n",
      "Thought:\u001b[32;1m\u001b[1;3m I now know the final answer.\n",
      "Final Answer: 1169\u001b[0m\n",
      "\n",
      "\u001b[1m> Finished chain.\u001b[0m\n",
      "1169\n"
     ]
    }
   ],
   "source": [
    "# Importing necessary modules\n",
    "from langchain.agents import load_tools, initialize_agent\n",
    "from langchain.agents import AgentType\n",
    "from langchain.llms import OpenAI\n",
    "\n",
    "# Loading the language model to control the agent\n",
    "llm = OpenAI(model=\"gpt-3.5-turbo-instruct\", temperature=0)\n",
    "\n",
    "# Loading some tools to use. The llm-math tool uses an LLM, so we pass that in.\n",
    "tools = load_tools([\"google-search\", \"llm-math\"], llm=llm)\n",
    "\n",
    "# Initializing an agent with the tools, the language model, and the type of agent we want to use.\n",
    "agent = initialize_agent(tools, llm, agent=AgentType.ZERO_SHOT_REACT_DESCRIPTION, verbose=True)\n",
    "\n",
    "# Testing the agent\n",
    "query = \"What's the result of 1000 plus the number of goals scored in the soccer world cup in 2018?\"\n",
    "response = agent.run(query)\n",
    "print(response)"
   ]
  },
  {
   "cell_type": "code",
   "execution_count": 3,
   "metadata": {},
   "outputs": [
    {
     "name": "stdout",
     "output_type": "stream",
     "text": [
      "\n",
      "\n",
      "\u001b[1m> Entering new AgentExecutor chain...\u001b[0m\n",
      "\u001b[32;1m\u001b[1;3m I should use the Science Fiction Writer tool to generate a story\n",
      "Action: Science Fiction Writer\n",
      "Action Input: \"Generate an epic saga about interstellar explorers\"\u001b[0m\n",
      "Observation: \u001b[36;1m\u001b[1;3m\n",
      "\n",
      "In the distant future, humanity has reached the peak of technological advancement. With the discovery of faster-than-light travel, humans have expanded their reach beyond the confines of Earth and have colonized numerous planets in the galaxy.\n",
      "\n",
      "Among the many explorers and adventurers, there is a group of renowned interstellar explorers known as the Starfinders. Led by the fearless Captain Nova, the Starfinders are a team of highly skilled individuals who are dedicated to discovering new worlds and unraveling the mysteries of the universe.\n",
      "\n",
      "Their journey begins when they receive a distress signal from a distant planet on the edge of the galaxy. Without hesitation, Captain Nova and her crew set out on their spaceship, the Starlight, to investigate the source of the signal.\n",
      "\n",
      "As they approach the planet, they are met with a sight unlike anything they have ever seen before. The planet is covered in a thick layer of ice, but there are signs of advanced technology scattered across its surface. Intrigued by this discovery, the Starfinders land on the planet and begin their exploration.\n",
      "\n",
      "As they delve deeper into the planet, they encounter a race of beings known as the Cryonians. These beings are highly advanced and have been in a state of cryogenic sleep for centuries. The Starfinders learn\u001b[0m\n",
      "Thought:\u001b[32;1m\u001b[1;3m This is getting interesting, I wonder what will happen next\n",
      "Action: Science Fiction Writer\n",
      "Action Input: \"Continue the story with the Starfinders learning about the Cryonians\"\u001b[0m\n",
      "Observation: \u001b[36;1m\u001b[1;3m\n",
      "\n",
      "The Starfinders had been traveling through the vast expanse of space for what felt like an eternity. Their mission was to explore new planets and civilizations, and they had encountered many strange and fascinating beings along the way. But nothing could have prepared them for what they were about to discover.\n",
      "\n",
      "As they approached a small, icy planet on the edge of the galaxy, their sensors picked up a faint distress signal. Curiosity getting the better of them, the Starfinders decided to investigate.\n",
      "\n",
      "As they landed on the frozen surface, they were greeted by a group of beings unlike any they had ever seen before. They were tall and slender, with pale blue skin and large, almond-shaped eyes. They introduced themselves as the Cryonians, a highly advanced race that had been in a state of cryogenic sleep for thousands of years.\n",
      "\n",
      "The Starfinders were in awe of the Cryonians' technology and their ability to survive in such extreme conditions. The Cryonians explained that their planet had once been a thriving civilization, but a catastrophic event had forced them to enter cryogenic sleep in order to survive.\n",
      "\n",
      "As the Starfinders explored the Cryonians' city, they were amazed by the advanced technology and knowledge that the Cryonians possessed. They had developed\u001b[0m\n",
      "Thought:\u001b[32;1m\u001b[1;3m This is turning into an epic saga, I can't wait to see how it ends\n",
      "Action: Science Fiction Writer\n",
      "Action Input: \"Continue the story with the Starfinders and Cryonians working together to save their planet\"\u001b[0m\n",
      "Observation: \u001b[36;1m\u001b[1;3m\n",
      "\n",
      "The Starfinders and Cryonians had been at odds for centuries, their two civilizations constantly at war over resources and territory. But now, faced with the imminent destruction of their planet, they were forced to put aside their differences and work together.\n",
      "\n",
      "The Cryonians, a highly advanced race of beings who had mastered the art of cryogenics, had discovered that their planet's core was unstable and would soon explode, wiping out all life on the planet. The Starfinders, a group of explorers and scientists from various planets, had been monitoring the situation and knew that they needed to act fast.\n",
      "\n",
      "The two groups met in a tense and uneasy alliance, but they knew that their survival depended on it. The Starfinders brought their advanced technology and knowledge of space travel, while the Cryonians brought their expertise in cryogenics and their vast underground cities.\n",
      "\n",
      "Together, they worked tirelessly to find a solution to save their planet. They scoured the galaxy for resources and technology, and with the help of the Starfinders' advanced ships, they were able to bring back everything they needed.\n",
      "\n",
      "The Cryonians used their cryogenic technology to freeze a large portion of their population, while the Starfinders built massive underground bunkers to protect the rest\u001b[0m\n",
      "Thought:\u001b[32;1m\u001b[1;3m This is the epic saga of the Starfinders and Cryonians, working together to save their planet and create a new future for both civilizations\n",
      "Final Answer: The epic science fiction saga of the Starfinders and Cryonians, two civilizations brought together by fate and working together to overcome their differences and save their planet from destruction.\u001b[0m\n",
      "\n",
      "\u001b[1m> Finished chain.\u001b[0m\n",
      "The epic science fiction saga of the Starfinders and Cryonians, two civilizations brought together by fate and working together to overcome their differences and save their planet from destruction.\n"
     ]
    }
   ],
   "source": [
    "# Importing necessary modules\n",
    "from langchain.agents import initialize_agent, AgentType\n",
    "from langchain.llms import OpenAI\n",
    "from langchain.agents import Tool\n",
    "from langchain.prompts import PromptTemplate\n",
    "from langchain.chains import LLMChain\n",
    "\n",
    "prompt = PromptTemplate(\n",
    "    input_variables=[\"query\"],\n",
    "    template=\"You're a renowned science fiction writer. {query}\"\n",
    ")\n",
    "\n",
    "# Initialize the language model\n",
    "llm = OpenAI(model=\"gpt-3.5-turbo-instruct\", temperature=0)\n",
    "llm_chain = LLMChain(llm=llm, prompt=prompt)\n",
    "\n",
    "tools = [\n",
    "    Tool(\n",
    "        name='Science Fiction Writer',\n",
    "        func=llm_chain.run,\n",
    "        description='Use this tool for generating science fiction stories. Input should be a command about generating specific types of stories.'\n",
    "    )\n",
    "]\n",
    "\n",
    "# Initializing an agent with the tools, the language model, and the type of agent we want to use.\n",
    "agent = initialize_agent(tools, llm, agent=AgentType.ZERO_SHOT_REACT_DESCRIPTION, verbose=True)\n",
    "\n",
    "# Testing the agent with the new prompt\n",
    "response = agent.run(\"Compose an epic science fiction saga about interstellar explorers\")\n",
    "print(response)"
   ]
  }
 ],
 "metadata": {
  "kernelspec": {
   "display_name": "env",
   "language": "python",
   "name": "python3"
  },
  "language_info": {
   "codemirror_mode": {
    "name": "ipython",
    "version": 3
   },
   "file_extension": ".py",
   "mimetype": "text/x-python",
   "name": "python",
   "nbconvert_exporter": "python",
   "pygments_lexer": "ipython3",
   "version": "3.10.13"
  }
 },
 "nbformat": 4,
 "nbformat_minor": 2
}
