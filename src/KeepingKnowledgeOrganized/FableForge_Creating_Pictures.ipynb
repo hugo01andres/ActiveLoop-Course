{
 "cells": [
  {
   "cell_type": "code",
   "execution_count": null,
   "metadata": {},
   "outputs": [],
   "source": [
    "get_visual_description_function = [{\n",
    "    'name': 'get_passage_setting',\n",
    "    'description': 'Generate and describe the visuals of a passage in a book. Visuals only, no characters, plot, or people.',\n",
    "    'parameters': {\n",
    "        'type': 'object',\n",
    "        'properties': {\n",
    "            'setting': {\n",
    "                'type': 'string',\n",
    "                'description': 'The visual setting of the passage, e.g. a green forest in the pacific northwest',\n",
    "            },\n",
    "            'time_of_day': {\n",
    "                'type': 'string',\n",
    "                'description': 'The time of day of the passage, e.g. nighttime, daytime. If unknown, leave blank.',\n",
    "            },\n",
    "            'weather': {\n",
    "                'type': 'string',\n",
    "                'description': 'The weather of the passage, eg. rain. If unknown, leave blank.',\n",
    "            },\n",
    "            'key_elements': {\n",
    "                'type': 'string',\n",
    "                'description': 'The key visual elements of the passage, eg tall trees',\n",
    "            },\n",
    "            'specific_details': {\n",
    "                'type': 'string',\n",
    "                'description': 'The specific visual details of the passage, eg moonlight',\n",
    "            }\n",
    "        },\n",
    "        'required': ['setting', 'time_of_day', 'weather', 'key_elements', 'specific_details']\n",
    "    }\n",
    "}]"
   ]
  },
  {
   "cell_type": "code",
   "execution_count": null,
   "metadata": {},
   "outputs": [],
   "source": [
    "from langchain.agents import HumanMessage\n",
    "\n",
    "#response= self.chat([HumanMessage(content=f'{page}')],functions=get_visual_description_function)"
   ]
  }
 ],
 "metadata": {
  "kernelspec": {
   "display_name": "env",
   "language": "python",
   "name": "python3"
  },
  "language_info": {
   "name": "python",
   "version": "3.10.13"
  }
 },
 "nbformat": 4,
 "nbformat_minor": 2
}
