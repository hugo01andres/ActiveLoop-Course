{
 "cells": [
  {
   "cell_type": "code",
   "execution_count": 1,
   "metadata": {},
   "outputs": [],
   "source": [
    "import os\n",
    "from dotenv import load_dotenv\n",
    "os.environ[\"OPENAI_API_KEY\"] = os.getenv(\"OPENAI_API_KEY\")\n",
    "os.environ[\"ACTIVELOOP_TOKEN\"] = os.getenv(\"ACTIVELOOP_TOKEN\")"
   ]
  },
  {
   "cell_type": "code",
   "execution_count": 2,
   "metadata": {},
   "outputs": [],
   "source": [
    "import requests\n",
    "from newspaper import Article # https://github.com/codelucas/newspaper\n",
    "import time\n",
    "\n",
    "headers = {\n",
    "    'User-Agent': 'Mozilla/5.0 (Windows NT 10.0; Win64; x64) AppleWebKit/537.36 (KHTML, like Gecko) Chrome/89.0.4389.82 Safari/537.36'\n",
    "}\n",
    "\n",
    "article_urls = [\n",
    "    \"https://www.artificialintelligence-news.com/2023/05/16/openai-ceo-ai-regulation-is-essential/\",\n",
    "    \"https://www.artificialintelligence-news.com/2023/05/15/jay-migliaccio-ibm-watson-on-leveraging-ai-to-improve-productivity/\",\n",
    "    \"https://www.artificialintelligence-news.com/2023/05/15/iurii-milovanov-softserve-how-ai-ml-is-helping-boost-innovation-and-personalisation/\",\n",
    "    \"https://www.artificialintelligence-news.com/2023/05/11/ai-and-big-data-expo-north-america-begins-in-less-than-one-week/\",\n",
    "    \"https://www.artificialintelligence-news.com/2023/05/02/ai-godfather-warns-dangers-and-quits-google/\",\n",
    "    \"https://www.artificialintelligence-news.com/2023/04/28/palantir-demos-how-ai-can-used-military/\"\n",
    "]\n",
    "\n",
    "session = requests.Session()\n",
    "pages_content = [] # where we save the scraped articles\n",
    "\n",
    "for url in article_urls:\n",
    "    try:\n",
    "        time.sleep(2) # sleep two seconds for gentle scraping\n",
    "        response = session.get(url, headers=headers, timeout=10)\n",
    "\n",
    "        if response.status_code == 200:\n",
    "            article = Article(url)\n",
    "            article.download() # download HTML of webpage\n",
    "            article.parse() # parse HTML to extract the article text\n",
    "            pages_content.append({ \"url\": url, \"text\": article.text })\n",
    "        else:\n",
    "            print(f\"Failed to fetch article at {url}\")\n",
    "    except Exception as e:\n",
    "        print(f\"Error occurred while fetching article at {url}: {e}\")\n",
    "\n",
    "#If an error occurs while fetching an article, we catch the exception and print\n",
    "#an error message. This ensures that even if one article fails to download,\n",
    "#the rest of the articles can still be processed."
   ]
  },
  {
   "cell_type": "code",
   "execution_count": 3,
   "metadata": {},
   "outputs": [
    {
     "name": "stderr",
     "output_type": "stream",
     "text": [
      "/workspaces/ActiveLoop-Course/env/lib/python3.10/site-packages/deeplake/util/check_latest_version.py:32: UserWarning: A newer version of deeplake (3.8.25) is available. It's recommended that you update to the latest version using `pip install -U deeplake`.\n",
      "  warnings.warn(\n"
     ]
    },
    {
     "name": "stdout",
     "output_type": "stream",
     "text": [
      "Your Deep Lake dataset has been successfully created!\n"
     ]
    },
    {
     "name": "stderr",
     "output_type": "stream",
     "text": [
      " \r"
     ]
    }
   ],
   "source": [
    "from langchain.embeddings.openai import OpenAIEmbeddings\n",
    "from langchain.vectorstores import DeepLake\n",
    "\n",
    "embeddings = OpenAIEmbeddings(model=\"text-embedding-ada-002\")\n",
    "\n",
    "# TODO: use your organization id here. (by default, org id is your username)\n",
    "my_activeloop_org_id = \"hugo01andres\"\n",
    "my_activeloop_dataset_name = \"langchain_course_qabot_with_source\"\n",
    "dataset_path = f\"hub://{my_activeloop_org_id}/{my_activeloop_dataset_name}\"\n",
    "\n",
    "db = DeepLake(dataset_path=dataset_path, embedding_function=embeddings)"
   ]
  },
  {
   "cell_type": "code",
   "execution_count": 4,
   "metadata": {},
   "outputs": [],
   "source": [
    "# We split the article texts into small chunks. While doing so, we keep track of each\n",
    "# chunk metadata (i.e. the URL where it comes from). Each metadata is a dictionary and\n",
    "# we need to use the \"source\" key for the document source so that we can then use the\n",
    "# RetrievalQAWithSourcesChain class which will automatically retrieve the \"source\" item\n",
    "# from the metadata dictionary.\n",
    "\n",
    "from langchain.text_splitter import RecursiveCharacterTextSplitter\n",
    "\n",
    "text_splitter = RecursiveCharacterTextSplitter(chunk_size=1000, chunk_overlap=100)\n",
    "\n",
    "all_texts, all_metadatas = [], []\n",
    "for d in pages_content:\n",
    "    chunks = text_splitter.split_text(d[\"text\"])\n",
    "    for chunk in chunks:\n",
    "        all_texts.append(chunk)\n",
    "        all_metadatas.append({ \"source\": d[\"url\"] })"
   ]
  },
  {
   "cell_type": "code",
   "execution_count": 5,
   "metadata": {},
   "outputs": [
    {
     "name": "stderr",
     "output_type": "stream",
     "text": [
      "Creating 49 embeddings in 1 batches of size 49:: 100%|██████████| 1/1 [00:07<00:00,  7.68s/it]"
     ]
    },
    {
     "name": "stdout",
     "output_type": "stream",
     "text": [
      "Dataset(path='hub://hugo01andres/langchain_course_qabot_with_source', tensors=['text', 'metadata', 'embedding', 'id'])\n",
      "\n",
      "  tensor      htype      shape      dtype  compression\n",
      "  -------    -------    -------    -------  ------- \n",
      "   text       text      (49, 1)      str     None   \n",
      " metadata     json      (49, 1)      str     None   \n",
      " embedding  embedding  (49, 1536)  float32   None   \n",
      "    id        text      (49, 1)      str     None   \n"
     ]
    },
    {
     "name": "stderr",
     "output_type": "stream",
     "text": [
      "\n"
     ]
    },
    {
     "data": {
      "text/plain": [
       "['06f4b080-e6e8-11ee-9475-7c1e5209054a',\n",
       " '06f4b29c-e6e8-11ee-9475-7c1e5209054a',\n",
       " '06f4b404-e6e8-11ee-9475-7c1e5209054a',\n",
       " '06f4b544-e6e8-11ee-9475-7c1e5209054a',\n",
       " '06f4b652-e6e8-11ee-9475-7c1e5209054a',\n",
       " '06f4b79c-e6e8-11ee-9475-7c1e5209054a',\n",
       " '06f4b896-e6e8-11ee-9475-7c1e5209054a',\n",
       " '06f4b95e-e6e8-11ee-9475-7c1e5209054a',\n",
       " '06f4bab2-e6e8-11ee-9475-7c1e5209054a',\n",
       " '06f4bbde-e6e8-11ee-9475-7c1e5209054a',\n",
       " '06f4bcd8-e6e8-11ee-9475-7c1e5209054a',\n",
       " '06f4bdaa-e6e8-11ee-9475-7c1e5209054a',\n",
       " '06f4be68-e6e8-11ee-9475-7c1e5209054a',\n",
       " '06f4bf30-e6e8-11ee-9475-7c1e5209054a',\n",
       " '06f4c03e-e6e8-11ee-9475-7c1e5209054a',\n",
       " '06f4c11a-e6e8-11ee-9475-7c1e5209054a',\n",
       " '06f4c1c4-e6e8-11ee-9475-7c1e5209054a',\n",
       " '06f4c278-e6e8-11ee-9475-7c1e5209054a',\n",
       " '06f4c32c-e6e8-11ee-9475-7c1e5209054a',\n",
       " '06f4c3b8-e6e8-11ee-9475-7c1e5209054a',\n",
       " '06f4c458-e6e8-11ee-9475-7c1e5209054a',\n",
       " '06f4c4e4-e6e8-11ee-9475-7c1e5209054a',\n",
       " '06f4c570-e6e8-11ee-9475-7c1e5209054a',\n",
       " '06f4c5fc-e6e8-11ee-9475-7c1e5209054a',\n",
       " '06f4c688-e6e8-11ee-9475-7c1e5209054a',\n",
       " '06f4c714-e6e8-11ee-9475-7c1e5209054a',\n",
       " '06f4c7aa-e6e8-11ee-9475-7c1e5209054a',\n",
       " '06f4c836-e6e8-11ee-9475-7c1e5209054a',\n",
       " '06f4c8c2-e6e8-11ee-9475-7c1e5209054a',\n",
       " '06f4c94e-e6e8-11ee-9475-7c1e5209054a',\n",
       " '06f4c9da-e6e8-11ee-9475-7c1e5209054a',\n",
       " '06f4ca70-e6e8-11ee-9475-7c1e5209054a',\n",
       " '06f4cafc-e6e8-11ee-9475-7c1e5209054a',\n",
       " '06f4cb88-e6e8-11ee-9475-7c1e5209054a',\n",
       " '06f4cc14-e6e8-11ee-9475-7c1e5209054a',\n",
       " '06f4ccaa-e6e8-11ee-9475-7c1e5209054a',\n",
       " '06f4cd36-e6e8-11ee-9475-7c1e5209054a',\n",
       " '06f4cdc2-e6e8-11ee-9475-7c1e5209054a',\n",
       " '06f4ce4e-e6e8-11ee-9475-7c1e5209054a',\n",
       " '06f4ceda-e6e8-11ee-9475-7c1e5209054a',\n",
       " '06f4cf66-e6e8-11ee-9475-7c1e5209054a',\n",
       " '06f4cff2-e6e8-11ee-9475-7c1e5209054a',\n",
       " '06f4d07e-e6e8-11ee-9475-7c1e5209054a',\n",
       " '06f4d10a-e6e8-11ee-9475-7c1e5209054a',\n",
       " '06f4d1a0-e6e8-11ee-9475-7c1e5209054a',\n",
       " '06f4d22c-e6e8-11ee-9475-7c1e5209054a',\n",
       " '06f4d2b8-e6e8-11ee-9475-7c1e5209054a',\n",
       " '06f4d344-e6e8-11ee-9475-7c1e5209054a',\n",
       " '06f4d3d0-e6e8-11ee-9475-7c1e5209054a']"
      ]
     },
     "execution_count": 5,
     "metadata": {},
     "output_type": "execute_result"
    }
   ],
   "source": [
    "# we add all the chunks to the deep lake, along with their metadata\n",
    "db.add_texts(all_texts, all_metadatas)"
   ]
  },
  {
   "cell_type": "code",
   "execution_count": 8,
   "metadata": {},
   "outputs": [],
   "source": [
    "# we create a RetrievalQAWithSourcesChain chain, which is very similar to a\n",
    "# standard retrieval QA chain but it also keeps track of the sources of the\n",
    "# retrieved documents\n",
    "\n",
    "from langchain.chains import RetrievalQAWithSourcesChain\n",
    "from langchain import OpenAI\n",
    "\n",
    "llm = OpenAI(model=\"gpt-3.5-turbo-instruct\", temperature=0)\n",
    "\n",
    "chain = RetrievalQAWithSourcesChain.from_chain_type(llm=llm,\n",
    "                                                    chain_type=\"stuff\",\n",
    "                                                    retriever=db.as_retriever())"
   ]
  },
  {
   "cell_type": "code",
   "execution_count": 9,
   "metadata": {},
   "outputs": [
    {
     "name": "stdout",
     "output_type": "stream",
     "text": [
      "Response:\n",
      " Geoffrey Hinton has expressed concerns about the potential dangers of AI and left his position at Google to discuss them openly. He believes that the rapid development of generative AI products could lead to false information being spread and job losses. Other experts, such as Elon Musk, Neil deGrasse Tyson, and Stephen Hawking, have also warned about the risks of AI. \n",
      "\n",
      "Sources:\n",
      "- https://www.artificialintelligence-news.com/2023/05/02/ai-godfather-warns-dangers-and-quits-google/\n"
     ]
    }
   ],
   "source": [
    "# We generate a response to a query using the chain. The response object is a dictionary containing\n",
    "# an \"answer\" field with the textual answer to the query, and a \"sources\" field containing a string made\n",
    "# of the concatenation of the metadata[\"source\"] strings of the retrieved documents.\n",
    "d_response = chain({\"question\": \"What does Geoffrey Hinton think about recent trends in AI?\"})\n",
    "\n",
    "print(\"Response:\")\n",
    "print(d_response[\"answer\"])\n",
    "print(\"Sources:\")\n",
    "for source in d_response[\"sources\"].split(\", \"):\n",
    "    print(\"- \" + source)"
   ]
  }
 ],
 "metadata": {
  "kernelspec": {
   "display_name": "env",
   "language": "python",
   "name": "python3"
  },
  "language_info": {
   "codemirror_mode": {
    "name": "ipython",
    "version": 3
   },
   "file_extension": ".py",
   "mimetype": "text/x-python",
   "name": "python",
   "nbconvert_exporter": "python",
   "pygments_lexer": "ipython3",
   "version": "3.10.13"
  }
 },
 "nbformat": 4,
 "nbformat_minor": 2
}
