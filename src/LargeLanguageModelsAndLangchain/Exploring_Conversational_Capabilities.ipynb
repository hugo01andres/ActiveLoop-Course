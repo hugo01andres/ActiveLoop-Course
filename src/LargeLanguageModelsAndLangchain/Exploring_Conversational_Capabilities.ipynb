{
 "cells": [
  {
   "cell_type": "code",
   "execution_count": 1,
   "metadata": {},
   "outputs": [
    {
     "data": {
      "text/plain": [
       "True"
      ]
     },
     "execution_count": 1,
     "metadata": {},
     "output_type": "execute_result"
    }
   ],
   "source": [
    "from dotenv import load_dotenv\n",
    "load_dotenv()"
   ]
  },
  {
   "cell_type": "code",
   "execution_count": 3,
   "metadata": {},
   "outputs": [],
   "source": [
    "from langchain.chat_models import ChatOpenAI\n",
    "from langchain.schema import (\n",
    "    SystemMessage,\n",
    "    HumanMessage,\n",
    "    AIMessage\n",
    ")\n",
    "from langchain.callbacks import get_openai_callback\n",
    "\n",
    "messages = [\n",
    "    SystemMessage(content=\"You are a helpful assistant.\"),\n",
    "    HumanMessage(content=\"What is the capital of France?\"),\n",
    "    AIMessage(content=\"The capital of France is Paris.\")\n",
    "]"
   ]
  },
  {
   "cell_type": "code",
   "execution_count": 4,
   "metadata": {},
   "outputs": [
    {
     "name": "stdout",
     "output_type": "stream",
     "text": [
      "content='Sure, Paris is a fascinating city. Known as the \"City of Light\" or \"La Ville-Lumière\", it\\'s the most populous city in France. It\\'s globally renowned for its history, culture, and beauty. Paris is located in the northern-central part of the country and straddles the Seine River.\\n\\nThe city is famous for its iconic landmarks, including the Eiffel Tower, the Louvre Museum, the Notre-Dame Cathedral, the Montmartre neighborhood with the Basilica of Sacré-Cœur, and the Champs-Élysées leading up to the Arc de Triomphe.\\n\\nParis is also a global center for art, fashion, gastronomy, and culture. It\\'s known for its cafe culture and designer boutiques along the Rue du Faubourg Saint-Honoré. \\n\\nIn terms of education, Paris is home to several internationally recognized educational institutions, including Sorbonne University.\\n\\nThe city has also been the setting for numerous books, movies, and works of art. Its beauty, charm, and cultural richness contribute to its status as one of the world\\'s most visited cities.' additional_kwargs={} example=False\n",
      "Tokens Used: 280\n",
      "\tPrompt Tokens: 52\n",
      "\tCompletion Tokens: 228\n",
      "Successful Requests: 1\n",
      "Total Cost (USD): $0.01524\n"
     ]
    }
   ],
   "source": [
    "prompt = HumanMessage(\n",
    "    content=\"I'd like to know more about the city you just mentioned.\"\n",
    ")\n",
    "# add to messages\n",
    "messages.append(prompt)\n",
    "\n",
    "llm = ChatOpenAI(model_name=\"gpt-4\")\n",
    "\n",
    "with get_openai_callback() as cb:\n",
    "    response = llm(messages)\n",
    "    print(response)\n",
    "    print(cb)"
   ]
  }
 ],
 "metadata": {
  "kernelspec": {
   "display_name": "env",
   "language": "python",
   "name": "python3"
  },
  "language_info": {
   "codemirror_mode": {
    "name": "ipython",
    "version": 3
   },
   "file_extension": ".py",
   "mimetype": "text/x-python",
   "name": "python",
   "nbconvert_exporter": "python",
   "pygments_lexer": "ipython3",
   "version": "3.10.13"
  }
 },
 "nbformat": 4,
 "nbformat_minor": 2
}
