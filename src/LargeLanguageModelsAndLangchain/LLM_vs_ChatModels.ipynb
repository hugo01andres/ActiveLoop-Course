{
 "cells": [
  {
   "cell_type": "code",
   "execution_count": null,
   "metadata": {},
   "outputs": [],
   "source": [
    "from dotenv import load_dotenv\n",
    "load_dotenv()"
   ]
  },
  {
   "cell_type": "code",
   "execution_count": 1,
   "metadata": {},
   "outputs": [],
   "source": [
    "from langchain.callbacks import get_openai_callback\n",
    "from langchain.llms import OpenAI\n",
    "from langchain.chains import LLMChain\n",
    "from langchain.prompts import PromptTemplate\n"
   ]
  },
  {
   "cell_type": "code",
   "execution_count": 21,
   "metadata": {},
   "outputs": [
    {
     "name": "stdout",
     "output_type": "stream",
     "text": [
      " I am starting a company that makes wireless headphones. I need a good name for it. I was thinking of something like \"Wireless Headphones\" or \"Wireless Headphones Inc.\" but I don't know if that is a good name. I need a name that is catchy and easy to remember. I also need a name that is not too long. I was thinking of something like \"Wireless Headphones\" or \"Wireless Headphones Inc.\" but I don't know if that is a good name. I need a name that is catchy and easy to remember. I also need a name that is not too long. I was thinking of something like \"Wireless Headphones\" or \"Wireless Headphones Inc.\" but I don't know if that is a good name. I need a name that is catchy and easy to remember. I also need a name that is not too long. I was thinking of something like \"Wireless Headphones\" or \"Wireless Headphones Inc.\" but I don't know if that is a good name. I need a name that is catchy and easy to remember. I also need a name that is not too long. I was thinking of something like \"Wireless Headphones\" or \"Wireless Headphones\n",
      "Tokens Used: 269\n",
      "\tPrompt Tokens: 13\n",
      "\tCompletion Tokens: 256\n",
      "Successful Requests: 1\n",
      "Total Cost (USD): $0.0\n"
     ]
    }
   ],
   "source": [
    "llm = OpenAI(model=\"davinci-002\", temperature=0)\n",
    "prompt = PromptTemplate(\n",
    "    input_variables=[\"product\"],\n",
    "    template=\"What is a good name for a company that makes {product}?\",\n",
    ")\n",
    "\n",
    "chain = LLMChain(llm=llm, prompt=prompt)\n",
    "\n",
    "with get_openai_callback() as cb:\n",
    "    print(chain.run(\"Wireless headphones\"))\n",
    "    print(cb)"
   ]
  },
  {
   "cell_type": "code",
   "execution_count": 22,
   "metadata": {},
   "outputs": [
    {
     "name": "stdout",
     "output_type": "stream",
     "text": [
      "J'adore programmer.\n",
      "Tokens Used: 37\n",
      "\tPrompt Tokens: 31\n",
      "\tCompletion Tokens: 6\n",
      "Successful Requests: 1\n",
      "Total Cost (USD): $5.85e-05\n"
     ]
    }
   ],
   "source": [
    "from langchain.chat_models import ChatOpenAI\n",
    "from langchain.schema import (\n",
    "  HumanMessage,\n",
    "  SystemMessage\n",
    ")\n",
    "\n",
    "chat = ChatOpenAI(model_name=\"gpt-3.5-turbo\", temperature=0)\n",
    "\n",
    "messages = [\n",
    "\tSystemMessage(content=\"You are a helpful assistant that translates English to French.\"),\n",
    "\tHumanMessage(content=\"Translate the following sentence: I love programming.\")\n",
    "]\n",
    "\n",
    "with get_openai_callback() as cb:\n",
    "    print(chat(messages).content)\n",
    "    print(cb)"
   ]
  }
 ],
 "metadata": {
  "kernelspec": {
   "display_name": "env",
   "language": "python",
   "name": "python3"
  },
  "language_info": {
   "codemirror_mode": {
    "name": "ipython",
    "version": 3
   },
   "file_extension": ".py",
   "mimetype": "text/x-python",
   "name": "python",
   "nbconvert_exporter": "python",
   "pygments_lexer": "ipython3",
   "version": "3.10.13"
  }
 },
 "nbformat": 4,
 "nbformat_minor": 2
}
