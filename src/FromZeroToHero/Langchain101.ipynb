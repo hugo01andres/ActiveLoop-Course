{
 "cells": [
  {
   "cell_type": "code",
   "execution_count": 2,
   "metadata": {},
   "outputs": [
    {
     "data": {
      "text/plain": [
       "True"
      ]
     },
     "execution_count": 2,
     "metadata": {},
     "output_type": "execute_result"
    }
   ],
   "source": [
    "from dotenv import load_dotenv\n",
    "load_dotenv()\n",
    "from langchain.callbacks import get_openai_callback"
   ]
  },
  {
   "cell_type": "code",
   "execution_count": 1,
   "metadata": {},
   "outputs": [],
   "source": [
    "from langchain.llms import OpenAI\n",
    "from langchain.callbacks import get_openai_callback"
   ]
  },
  {
   "cell_type": "code",
   "execution_count": 3,
   "metadata": {},
   "outputs": [],
   "source": [
    "llm = OpenAI(model=\"gpt-3.5-turbo-instruct\", temperature=0.9)"
   ]
  },
  {
   "cell_type": "code",
   "execution_count": 4,
   "metadata": {},
   "outputs": [
    {
     "name": "stdout",
     "output_type": "stream",
     "text": [
      "\n",
      "\n",
      "Day 1:\n",
      "Warm-up: Jog for 5 minutes\n",
      "- 3 sets of 15 reps of bodyweight squats\n",
      "- 3 sets of 10 reps of push-ups\n",
      "- 3 sets of 10 reps of lunges\n",
      "- 3 sets of 10 reps of tricep dips using a bench or chair\n",
      "- 20 minute jog at a steady pace\n",
      "\n",
      "Day 2:\n",
      "Warm-up: Jumping jacks for 3 minutes\n",
      "- 3 sets of 20 reps of mountain climbers\n",
      "- 3 sets of 10 reps of burpees\n",
      "- 3 sets of 15 reps of bicycle crunches\n",
      "- 3 sets of 10 reps of bench step-ups\n",
      "- 30 minutes of cycling or biking outdoors\n",
      "\n",
      "Day 3:\n",
      "Warm-up: High knees for 2 minutes\n",
      "- 3 sets of 10 reps of jump squats\n",
      "- 3 sets of 10 reps of push-ups with alternating knee taps\n",
      "- 3 sets of 10 reps of jumping lunges\n",
      "- 3 sets of 15 reps of plank shoulder taps\n",
      "- 20 minutes of interval running, alternating between sprinting and jogging\n",
      "\n",
      "Day 4:\n",
      "Rest day or light yoga/stretching session\n",
      "\n",
      "Day \n",
      "Tokens Used: 274\n",
      "\tPrompt Tokens: 18\n",
      "\tCompletion Tokens: 256\n",
      "Successful Requests: 1\n",
      "Total Cost (USD): $0.0\n"
     ]
    }
   ],
   "source": [
    "text = \"Suggest a personalized workout routine for someone looking to improve cardiovascular endurance and prefers outdoor activities.\"\n",
    "with get_openai_callback() as cb:\n",
    "    print(llm(text))\n",
    "    print(cb)"
   ]
  },
  {
   "cell_type": "code",
   "execution_count": 5,
   "metadata": {},
   "outputs": [],
   "source": [
    "from langchain.prompts import PromptTemplate\n",
    "from langchain.llms import OpenAI\n",
    "from langchain.chains import LLMChain"
   ]
  },
  {
   "cell_type": "code",
   "execution_count": 13,
   "metadata": {},
   "outputs": [
    {
     "name": "stdout",
     "output_type": "stream",
     "text": [
      "\n",
      "EcoWave Bottle Co. \n",
      "Total Cost (USD): $0.000000000000\n"
     ]
    }
   ],
   "source": [
    "llm = OpenAI(model=\"gpt-3.5-turbo-instruct\", temperature=0.9)\n",
    "prompt = PromptTemplate(\n",
    "    input_variables=[\"product\"],\n",
    "    template=\"What is a good name for a company that makes {product}?\",\n",
    ")\n",
    "\n",
    "chain = LLMChain(llm=llm, prompt=prompt)\n",
    "\n",
    "# Run the chain only specifying the input variable.\n",
    "with get_openai_callback() as cb:\n",
    "    print(chain.run(product=\"eco-friendly water bottles\"))\n",
    "    print(cb)"
   ]
  },
  {
   "cell_type": "code",
   "execution_count": null,
   "metadata": {},
   "outputs": [],
   "source": [
    "from langchain.llms import OpenAI\n",
    "from langchain.chains import ConversationChain\n",
    "from langchain.memory import ConversationBufferMemory\n",
    "\n",
    "llm = OpenAI(model=\"gpt-3.5-turbo-instruct\", temperature=0)\n",
    "conversation = ConversationChain(\n",
    "    llm=llm,\n",
    "    verbose=True,\n",
    "    memory=ConversationBufferMemory()\n",
    ")\n",
    "\n",
    "# Start the conversation\n",
    "conversation.predict(input=\"Tell me about yourself.\")\n",
    "\n",
    "# Continue the conversation\n",
    "conversation.predict(input=\"What can you do?\")\n",
    "conversation.predict(input=\"How can you help me with data analysis?\")\n",
    "\n",
    "# Display the conversation\n",
    "print(conversation)"
   ]
  }
 ],
 "metadata": {
  "kernelspec": {
   "display_name": "env",
   "language": "python",
   "name": "python3"
  },
  "language_info": {
   "codemirror_mode": {
    "name": "ipython",
    "version": 3
   },
   "file_extension": ".py",
   "mimetype": "text/x-python",
   "name": "python",
   "nbconvert_exporter": "python",
   "pygments_lexer": "ipython3",
   "version": "3.10.13"
  }
 },
 "nbformat": 4,
 "nbformat_minor": 2
}
