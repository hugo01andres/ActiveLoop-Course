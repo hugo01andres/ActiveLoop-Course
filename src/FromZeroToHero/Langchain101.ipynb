{
 "cells": [
  {
   "cell_type": "code",
   "execution_count": 1,
   "metadata": {},
   "outputs": [
    {
     "data": {
      "text/plain": [
       "True"
      ]
     },
     "execution_count": 1,
     "metadata": {},
     "output_type": "execute_result"
    }
   ],
   "source": [
    "from dotenv import load_dotenv\n",
    "load_dotenv()"
   ]
  },
  {
   "cell_type": "code",
   "execution_count": 7,
   "metadata": {},
   "outputs": [],
   "source": [
    "from langchain.llms import OpenAI\n",
    "from langchain.callbacks import get_openai_callback"
   ]
  },
  {
   "cell_type": "code",
   "execution_count": 3,
   "metadata": {},
   "outputs": [],
   "source": [
    "llm = OpenAI(model=\"gpt-3.5-turbo-instruct\", temperature=0.9)"
   ]
  },
  {
   "cell_type": "code",
   "execution_count": 8,
   "metadata": {},
   "outputs": [
    {
     "name": "stdout",
     "output_type": "stream",
     "text": [
      "\n",
      "\n",
      "Week 1:\n",
      "\n",
      "Monday:\n",
      "Warm up: 10 minutes of brisk walking or jogging\n",
      "Workout: 20 minutes of cycling at a steady pace\n",
      "Cool down: 5 minutes of stretching\n",
      "\n",
      "Tuesday:\n",
      "Warm up: 10 minutes of dynamic stretching\n",
      "Workout: 30 minutes of hiking on a moderate trail\n",
      "Cool down: 5 minutes of static stretching\n",
      "\n",
      "Wednesday:\n",
      "Rest day or low intensity activity like yoga or swimming\n",
      "\n",
      "Thursday:\n",
      "Warm up: 10 minutes of jogging in place or jumping jacks\n",
      "Workout: 20 minutes of interval running (alternate between 1 minute of sprinting and 1 minute of jogging)\n",
      "Cool down: 5 minutes of stretching\n",
      "\n",
      "Friday:\n",
      "Warm up: 10 minutes of dynamic stretching\n",
      "Workout: 30 minutes of brisk walking or power walking\n",
      "Cool down: 5 minutes of static stretching\n",
      "\n",
      "Saturday:\n",
      "Warm up: 10 minutes of jogging or cycling at a low intensity\n",
      "Workout: 40 minutes of outdoor circuit training (exercises like push-ups, squats, lunges, and jumping jacks)\n",
      "Cool down: 5 minutes of stretching\n",
      "\n",
      "Sunday:\n",
      "Rest day or low intensity activity like yoga or swimming\n",
      "\n",
      "Week 2:\n",
      "\n",
      "Monday:\n",
      "Warm up: 10 minutes of brisk\n",
      "Tokens Used: 274\n",
      "\tPrompt Tokens: 18\n",
      "\tCompletion Tokens: 256\n",
      "Successful Requests: 1\n",
      "Total Cost (USD): $0.0\n"
     ]
    }
   ],
   "source": [
    "text = \"Suggest a personalized workout routine for someone looking to improve cardiovascular endurance and prefers outdoor activities.\"\n",
    "with get_openai_callback() as cb:\n",
    "    print(llm(text))\n",
    "    print(cb)"
   ]
  },
  {
   "cell_type": "code",
   "execution_count": 5,
   "metadata": {},
   "outputs": [],
   "source": [
    "from langchain.prompts import PromptTemplate\n",
    "from langchain.llms import OpenAI\n",
    "from langchain.chains import LLMChain"
   ]
  },
  {
   "cell_type": "code",
   "execution_count": 13,
   "metadata": {},
   "outputs": [
    {
     "name": "stdout",
     "output_type": "stream",
     "text": [
      "\n",
      "EcoWave Bottle Co. \n",
      "Total Cost (USD): $0.000000000000\n"
     ]
    }
   ],
   "source": [
    "llm = OpenAI(model=\"gpt-3.5-turbo-instruct\", temperature=0.9)\n",
    "prompt = PromptTemplate(\n",
    "    input_variables=[\"product\"],\n",
    "    template=\"What is a good name for a company that makes {product}?\",\n",
    ")\n",
    "\n",
    "chain = LLMChain(llm=llm, prompt=prompt)\n",
    "\n",
    "# Run the chain only specifying the input variable.\n",
    "with get_openai_callback() as cb:\n",
    "    print(chain.run(product=\"eco-friendly water bottles\"))\n",
    "    print(cb)"
   ]
  },
  {
   "cell_type": "code",
   "execution_count": null,
   "metadata": {},
   "outputs": [],
   "source": [
    "from langchain.llms import OpenAI\n",
    "from langchain.chains import ConversationChain\n",
    "from langchain.memory import ConversationBufferMemory\n",
    "\n",
    "llm = OpenAI(model=\"gpt-3.5-turbo-instruct\", temperature=0)\n",
    "conversation = ConversationChain(\n",
    "    llm=llm,\n",
    "    verbose=True,\n",
    "    memory=ConversationBufferMemory()\n",
    ")\n",
    "\n",
    "# Start the conversation\n",
    "conversation.predict(input=\"Tell me about yourself.\")\n",
    "\n",
    "# Continue the conversation\n",
    "conversation.predict(input=\"What can you do?\")\n",
    "conversation.predict(input=\"How can you help me with data analysis?\")\n",
    "\n",
    "# Display the conversation\n",
    "print(conversation)"
   ]
  }
 ],
 "metadata": {
  "kernelspec": {
   "display_name": "env",
   "language": "python",
   "name": "python3"
  },
  "language_info": {
   "codemirror_mode": {
    "name": "ipython",
    "version": 3
   },
   "file_extension": ".py",
   "mimetype": "text/x-python",
   "name": "python",
   "nbconvert_exporter": "python",
   "pygments_lexer": "ipython3",
   "version": "3.10.13"
  }
 },
 "nbformat": 4,
 "nbformat_minor": 2
}
